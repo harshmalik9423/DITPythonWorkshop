{
 "cells": [
  {
   "cell_type": "code",
   "execution_count": 7,
   "metadata": {},
   "outputs": [
    {
     "name": "stdout",
     "output_type": "stream",
     "text": [
      "0\n",
      "2\n",
      "11\n",
      "4\n",
      "6\n",
      "--------------\n",
      "6\n",
      "4\n",
      "2\n",
      "0\n"
     ]
    }
   ],
   "source": [
    "class Node:\n",
    "    def __init__(self,data):\n",
    "        self.data = data\n",
    "        self.next = None\n",
    "class LinkedList:\n",
    "    def __init__(self):\n",
    "        self.head = None\n",
    "    def append(self,data):\n",
    "        newNode = Node(data)\n",
    "        if self.head is None:\n",
    "            self.head = newNode\n",
    "        else:\n",
    "            temp = self.head\n",
    "            while temp.next is not None:\n",
    "                temp = temp.next\n",
    "            temp.next = newNode\n",
    "    def addAtBeg(self,data):\n",
    "        newNode = Node(data)\n",
    "        newNode.next = self.head\n",
    "        self.head = newNode\n",
    "    def addAtPos(self, data, pos):\n",
    "        newNode = Node(data)\n",
    "        temp = self.head\n",
    "        count = 1\n",
    "        while temp is not None:\n",
    "            if count == pos-1:\n",
    "                newNode.next = temp.next\n",
    "                temp.next = newNode\n",
    "                break\n",
    "            count+=1\n",
    "            temp = temp.next\n",
    "    def delAtEnd(self):\n",
    "        temp = self.head\n",
    "        while temp is not None:\n",
    "            if temp.next.next is None:\n",
    "                temp.next = None\n",
    "            temp = temp.next\n",
    "    def delAtBeg(self):\n",
    "        self.head = self.head.next\n",
    "    def display(self):\n",
    "        temp = self.head\n",
    "        while temp is not None:\n",
    "            print(temp.data)\n",
    "            temp = temp.next\n",
    "l = LinkedList()\n",
    "l1 = LinkedList()\n",
    "for i in range(0,10,2):\n",
    "    l.append(i)\n",
    "    l1.addAtBeg(i)\n",
    "l.addAtPos(11,3)\n",
    "l.delAtEnd()\n",
    "l1.delAtBeg()\n",
    "l.display()\n",
    "print(\"--------------\")\n",
    "l1.display()"
   ]
  },
  {
   "cell_type": "code",
   "execution_count": null,
   "metadata": {},
   "outputs": [],
   "source": []
  }
 ],
 "metadata": {
  "kernelspec": {
   "display_name": "Python 3",
   "language": "python",
   "name": "python3"
  },
  "language_info": {
   "codemirror_mode": {
    "name": "ipython",
    "version": 3
   },
   "file_extension": ".py",
   "mimetype": "text/x-python",
   "name": "python",
   "nbconvert_exporter": "python",
   "pygments_lexer": "ipython3",
   "version": "3.7.4"
  }
 },
 "nbformat": 4,
 "nbformat_minor": 2
}
