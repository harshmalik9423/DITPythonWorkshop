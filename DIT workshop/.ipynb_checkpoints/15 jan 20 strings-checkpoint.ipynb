{
 "cells": [
  {
   "cell_type": "code",
   "execution_count": null,
   "metadata": {},
   "outputs": [],
   "source": [
    "#Strings\n",
    "len(s)\n",
    "s.upper()   #to convert to upper\n",
    "s.lower()\n",
    "s.islower()\n",
    "s.isupper()       #checks for upper or lower case\n",
    "s.isalnum         #checks alphanumeric\n",
    "s.capitalize()    #First char becomes capital\n",
    "s.title()         #First char of every word becomes capital\n",
    "s.find(\"how\")     #Gives index if \"how\" is found\n",
    "s.find(5:8,\"a\")   #finds in the range in left to right\n",
    "s.rfind(\"how\")    #finds from right to left (for huge amount of data)\n",
    "s.strip()         #removes spaces from beginning and end of string\n",
    "s.ljust(40,\"$\")   #the whole string is adjusted in 40 \"$\", adding to end\n",
    "s.rjust(10,\"@\")   #right justify; 10 \"@\" is added to starting of string\n",
    "s.lstrip()        #removes left spaces\n",
    "s.rstrip()        #removes right spaces\n",
    "s.replace(\"h\",\"j\",2)  #replaces h with j only twice\n",
    "s.replace(\"h\",\"j\")  #replaces h with j for all\n"
   ]
  },
  {
   "cell_type": "code",
   "execution_count": null,
   "metadata": {},
   "outputs": [],
   "source": [
    "#match and search only works for the first match\n",
    "#both gives output as object"
   ]
  },
  {
   "cell_type": "code",
   "execution_count": 4,
   "metadata": {},
   "outputs": [
    {
     "name": "stdout",
     "output_type": "stream",
     "text": [
      "None\n"
     ]
    }
   ],
   "source": [
    "import re\n",
    "s = \"whi how are you\"\n",
    "result = re.match(\"h.+\",s)\n",
    "print(result)"
   ]
  },
  {
   "cell_type": "code",
   "execution_count": 5,
   "metadata": {},
   "outputs": [
    {
     "name": "stdout",
     "output_type": "stream",
     "text": [
      "<re.Match object; span=(1, 15), match='hi how are you'>\n"
     ]
    }
   ],
   "source": [
    "import re\n",
    "s = \"whi how are you\"\n",
    "result = re.search(\"h.+\",s)\n",
    "print(result)"
   ]
  },
  {
   "cell_type": "code",
   "execution_count": 6,
   "metadata": {},
   "outputs": [
    {
     "name": "stdout",
     "output_type": "stream",
     "text": [
      "<re.Match object; span=(1, 3), match='hi'>\n"
     ]
    }
   ],
   "source": [
    "import re\n",
    "s = \"whi how are you\"\n",
    "result = re.search(\"h.\",s)\n",
    "print(result)"
   ]
  },
  {
   "cell_type": "code",
   "execution_count": 7,
   "metadata": {},
   "outputs": [
    {
     "name": "stdout",
     "output_type": "stream",
     "text": [
      "<re.Match object; span=(1, 5), match='hi h'>\n"
     ]
    }
   ],
   "source": [
    "import re\n",
    "s = \"whi how are you\"\n",
    "result = re.search(\"h.{3}\",s)       #. is repeated 3 times\n",
    "print(result)"
   ]
  },
  {
   "cell_type": "code",
   "execution_count": 8,
   "metadata": {},
   "outputs": [
    {
     "name": "stdout",
     "output_type": "stream",
     "text": [
      "<re.Match object; span=(1, 4), match='hi '>\n"
     ]
    }
   ],
   "source": [
    "import re\n",
    "s = \"whi how are you\"\n",
    "result = re.search(\"h..\",s)\n",
    "print(result)"
   ]
  },
  {
   "cell_type": "code",
   "execution_count": 9,
   "metadata": {},
   "outputs": [
    {
     "name": "stdout",
     "output_type": "stream",
     "text": [
      "['hi ', 'how']\n"
     ]
    }
   ],
   "source": [
    "import re\n",
    "s = \"whi how are you\"\n",
    "result = re.findall(\"h..\",s)      #gives output as list\n",
    "print(result)"
   ]
  },
  {
   "cell_type": "code",
   "execution_count": 12,
   "metadata": {},
   "outputs": [
    {
     "name": "stdout",
     "output_type": "stream",
     "text": [
      "<re.Match object; span=(1, 3), match='hi'>\n"
     ]
    }
   ],
   "source": [
    "import re\n",
    "s = \"whi how are you\"\n",
    "result = re.search(\"[a-m]{2}\",s)\n",
    "print(result)"
   ]
  },
  {
   "cell_type": "code",
   "execution_count": 13,
   "metadata": {},
   "outputs": [
    {
     "name": "stdout",
     "output_type": "stream",
     "text": [
      "None\n"
     ]
    }
   ],
   "source": [
    "import re\n",
    "s = \"whi how are you\"\n",
    "result = re.search(\"[a-z][A-Z][0-9]{2}\",s)\n",
    "print(result)"
   ]
  },
  {
   "cell_type": "code",
   "execution_count": 15,
   "metadata": {},
   "outputs": [
    {
     "name": "stdout",
     "output_type": "stream",
     "text": [
      "<re.Match object; span=(1, 11), match='8920678669'>\n"
     ]
    }
   ],
   "source": [
    "import re\n",
    "s = \"h8920678669\"\n",
    "result = re.search(\"[0-9]{10}\",s)\n",
    "print(result)"
   ]
  },
  {
   "cell_type": "code",
   "execution_count": 18,
   "metadata": {},
   "outputs": [
    {
     "name": "stdout",
     "output_type": "stream",
     "text": [
      "<re.Match object; span=(0, 2), match='hi'>\n"
     ]
    }
   ],
   "source": [
    "import re\n",
    "s = \"hi how are you\"\n",
    "result = re.search(\"\\w{2}\",s)       #checks for first alphanumeric character\n",
    "print(result)"
   ]
  },
  {
   "cell_type": "code",
   "execution_count": 20,
   "metadata": {},
   "outputs": [
    {
     "name": "stdout",
     "output_type": "stream",
     "text": [
      "['h', 'i', 'h', 'o', 'w', 'a', 'r', 'e', 'y', 'o', 'u']\n"
     ]
    }
   ],
   "source": [
    "import re\n",
    "s = \"hi how are you\"\n",
    "result = re.findall(\"\\w\",s)       #checks for first alphanumeric character\n",
    "print(result)"
   ]
  },
  {
   "cell_type": "code",
   "execution_count": 21,
   "metadata": {},
   "outputs": [
    {
     "name": "stdout",
     "output_type": "stream",
     "text": [
      "['hi']\n"
     ]
    }
   ],
   "source": [
    "import re\n",
    "s = \"hi how are you\"\n",
    "result = re.findall(\"^hi\",s)       #checks if string starts with given word\n",
    "print(result)"
   ]
  },
  {
   "cell_type": "code",
   "execution_count": 24,
   "metadata": {},
   "outputs": [
    {
     "name": "stdout",
     "output_type": "stream",
     "text": [
      "['you']\n"
     ]
    }
   ],
   "source": [
    "import re\n",
    "s = \"hi how are you\"\n",
    "result = re.findall(\"you$\",s)       #checks if string ends with given word\n",
    "print(result)"
   ]
  },
  {
   "cell_type": "code",
   "execution_count": 26,
   "metadata": {},
   "outputs": [
    {
     "name": "stdout",
     "output_type": "stream",
     "text": [
      "['hi']\n"
     ]
    }
   ],
   "source": [
    "import re\n",
    "s = \"hi how are you\"\n",
    "result = re.findall(\"\\Ahi\",s)       #checks if string starts with given word\n",
    "print(result)"
   ]
  },
  {
   "cell_type": "code",
   "execution_count": 35,
   "metadata": {},
   "outputs": [
    {
     "name": "stdout",
     "output_type": "stream",
     "text": [
      "[]\n"
     ]
    }
   ],
   "source": [
    "import re\n",
    "s = \"hi how are you : $\"\n",
    "result = re.findall(\"\\$\\b\",s)       #escapes $\n",
    "print(result)"
   ]
  },
  {
   "cell_type": "code",
   "execution_count": 33,
   "metadata": {},
   "outputs": [
    {
     "name": "stdout",
     "output_type": "stream",
     "text": [
      "[]\n"
     ]
    }
   ],
   "source": [
    "import re\n",
    "s = \"hi how are you : $\"\n",
    "result = re.findall(\"you\\b\",s)       #\"\\b\" is taken together\n",
    "print(result)"
   ]
  },
  {
   "cell_type": "code",
   "execution_count": 32,
   "metadata": {},
   "outputs": [
    {
     "name": "stdout",
     "output_type": "stream",
     "text": [
      "['you']\n"
     ]
    }
   ],
   "source": [
    "import re\n",
    "s = \"hi how are you : $\"\n",
    "result = re.findall(r\"you\\b\",s)       #r will make it as a raw string... therefore \"\\\" and \"b\" are considered spearate\n",
    "print(result)"
   ]
  },
  {
   "cell_type": "code",
   "execution_count": 37,
   "metadata": {},
   "outputs": [
    {
     "name": "stdout",
     "output_type": "stream",
     "text": [
      "['5', '4', '5', '6', '4', '5', '1', '3', '5', '2']\n"
     ]
    }
   ],
   "source": [
    "import re\n",
    "s = \"5456451352\"\n",
    "pattern = re.compile(\"[0-9]\")\n",
    "r = re.findall(pattern,s)\n",
    "print(r)"
   ]
  },
  {
   "cell_type": "code",
   "execution_count": 63,
   "metadata": {},
   "outputs": [
    {
     "name": "stdout",
     "output_type": "stream",
     "text": [
      "<re.Match object; span=(39, 49), match='2020/05/03'> 16 <re.Match object; span=(4, 22), match='conference meeting'>\n"
     ]
    }
   ],
   "source": [
    "import re\n",
    "s = \"the conference meeting is scheduled at 2020/05/03 4 pm\"\n",
    "result = re.search(\"[0-9]{4}[/][0-9]{2}[/][0-9]{2}\", s)\n",
    "time = s.find(\"pm\")\n",
    "if time==-1:\n",
    "    ti = re.search(\"[ ][0-9][ ]\",s)\n",
    "    print(ti)\n",
    "else:\n",
    "    ti = 12 + int(s[time-2:time-1])\n",
    "event = re.search(\"[a-z]{10}[ ]meeting\",s)\n",
    "print(result,ti,event)"
   ]
  },
  {
   "cell_type": "code",
   "execution_count": 71,
   "metadata": {},
   "outputs": [
    {
     "name": "stdout",
     "output_type": "stream",
     "text": [
      "<re.Match object; span=(0, 28), match='trainer@dituniversity.edu.in'>\n"
     ]
    }
   ],
   "source": [
    "s = \"trainer@dituniversity.edu.in\"\n",
    "result = re.search(\".+@.{3,}\\..{2,3}\\..{2,3}\",s)\n",
    "print(result)"
   ]
  },
  {
   "cell_type": "code",
   "execution_count": 73,
   "metadata": {},
   "outputs": [
    {
     "name": "stdout",
     "output_type": "stream",
     "text": [
      "<re.Match object; span=(0, 20), match='trainer@gmail.edu.in'>\n"
     ]
    }
   ],
   "source": [
    "s = \"trainer@gmail.edu.in\"\n",
    "result = re.search(\".+@.{3,}\\..{2,3}\\..{2,3}\",s)\n",
    "print(result)"
   ]
  }
 ],
 "metadata": {
  "kernelspec": {
   "display_name": "Python 3",
   "language": "python",
   "name": "python3"
  },
  "language_info": {
   "codemirror_mode": {
    "name": "ipython",
    "version": 3
   },
   "file_extension": ".py",
   "mimetype": "text/x-python",
   "name": "python",
   "nbconvert_exporter": "python",
   "pygments_lexer": "ipython3",
   "version": "3.7.4"
  }
 },
 "nbformat": 4,
 "nbformat_minor": 2
}
